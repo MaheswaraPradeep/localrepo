{
  "nbformat": 4,
  "nbformat_minor": 0,
  "metadata": {
    "colab": {
      "provenance": [],
      "include_colab_link": true
    },
    "kernelspec": {
      "name": "python3",
      "display_name": "Python 3"
    },
    "language_info": {
      "name": "python"
    }
  },
  "cells": [
    {
      "cell_type": "markdown",
      "metadata": {
        "id": "view-in-github",
        "colab_type": "text"
      },
      "source": [
        "<a href=\"https://colab.research.google.com/github/MaheswaraPradeep/localrepo/blob/main/AI_LAB_2.ipynb\" target=\"_parent\"><img src=\"https://colab.research.google.com/assets/colab-badge.svg\" alt=\"Open In Colab\"/></a>"
      ]
    },
    {
      "cell_type": "code",
      "source": [
        "\"\"\"Decision Tree Classifier, iris\"\"\"\n",
        "\n",
        "from sklearn.datasets import load_iris\n",
        "from sklearn.model_selection import train_test_split\n",
        "from sklearn.tree import DecisionTreeClassifier, plot_tree\n",
        "from sklearn.metrics import accuracy_score\n",
        "import matplotlib.pyplot as plt\n",
        "\n",
        "iris = load_iris()\n",
        "X = iris.data\n",
        "y = iris.target\n",
        "\n",
        "X_train, X_test, y_train, y_test = train_test_split(X, y, test_size=0.2, random_state=42)\n",
        "\n",
        "clf = DecisionTreeClassifier()\n",
        "clf.fit(X_train, y_train)\n",
        "\n",
        "y_pred = clf.predict(X_test)\n",
        "\n",
        "print(\"Accuracy:\", accuracy_score(y_test, y_pred))\n",
        "\n",
        "plt.figure(figsize=(15,10))\n",
        "plot_tree(clf, filled=True, feature_names=iris.feature_names, class_names=iris.target_names)\n",
        "plt.show()"
      ],
      "metadata": {
        "id": "U7Fut92YRx33"
      },
      "execution_count": null,
      "outputs": []
    },
    {
      "cell_type": "code",
      "source": [
        "\"\"\"Decision Tree Classifier, cancer\"\"\"\n",
        "from sklearn.datasets import load_breast_cancer\n",
        "from sklearn.model_selection import train_test_split\n",
        "from sklearn.tree import DecisionTreeClassifier\n",
        "from sklearn.metrics import accuracy_score\n",
        "from sklearn.tree import plot_tree\n",
        "import matplotlib.pyplot as plt\n",
        "\n",
        "cancer_dataset = load_breast_cancer()\n",
        "\n",
        "X = cancer_dataset.data\n",
        "y = cancer_dataset.target\n",
        "\n",
        "X_train, X_test, y_train, y_test = train_test_split(X, y, test_size=0.2, random_state=42)\n",
        "\n",
        "clf = DecisionTreeClassifier()\n",
        "clf.fit(X_train, y_train)\n",
        "y_pred = clf.predict(X_test)\n",
        "\n",
        "print(\"Accuracy:\", accuracy_score(y_test, y_pred))\n",
        "\n",
        "plt.figure(figsize=(15,10))\n",
        "plot_tree(clf, filled=True, feature_names=cancer_dataset.feature_names, class_names=cancer_dataset.target_names)\n",
        "plt.show()"
      ],
      "metadata": {
        "id": "4wdGrkscS0qh"
      },
      "execution_count": null,
      "outputs": []
    },
    {
      "cell_type": "code",
      "source": [
        "\"\"\"Hangman\"\"\"\n",
        "import random\n",
        "\n",
        "name = input(\"Enter your name: \")\n",
        "print(f\"Hello, {name}. Let's play hangman\\n\")\n",
        "print(\"Start guessing... \")\n",
        "\n",
        "temp = [\"apple\", \"banana\", \"mango\"]\n",
        "\n",
        "word = random.choice(temp)\n",
        "turns = 5\n",
        "guesses = \"\"\n",
        "\n",
        "while turns > 0:\n",
        "    failed = 0\n",
        "    for char in word:\n",
        "        if char in guesses:\n",
        "            print(char, end='')\n",
        "        else:\n",
        "            print(\"_\", end='')\n",
        "            failed += 1\n",
        "\n",
        "    if failed == 0:\n",
        "        print(\"\\nYou won\")\n",
        "        break\n",
        "\n",
        "\n",
        "    guess = input(\" Guess a character: \")\n",
        "    guesses += guess\n",
        "\n",
        "    if guess not in word:\n",
        "        turns -= 1\n",
        "        print(\"Wrong guess\")\n",
        "        print(f\"You have {turns} more guesses\")\n",
        "\n",
        "    if turns == 0:\n",
        "        print(\"You loose!!\")\n"
      ],
      "metadata": {
        "id": "mOHWuWrjSqP8"
      },
      "execution_count": null,
      "outputs": []
    }
  ]
}